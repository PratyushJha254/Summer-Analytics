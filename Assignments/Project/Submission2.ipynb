{
 "cells": [
  {
   "cell_type": "code",
   "execution_count": 109,
   "id": "1ed0411a",
   "metadata": {},
   "outputs": [],
   "source": [
    "import numpy as np\n",
    "import pandas as pd\n",
    "import matplotlib.pyplot as plt\n",
    "import seaborn as sns\n",
    "\n",
    "from sklearn.preprocessing import StandardScaler\n",
    "\n",
    "from sklearn.model_selection import cross_val_score\n",
    "import warnings\n",
    "\n",
    "from sklearn.metrics import confusion_matrix, accuracy_score, roc_auc_score, roc_curve\n",
    "from sklearn import preprocessing\n",
    "from sklearn.feature_selection import RFE\n",
    "import seaborn as sns\n",
    "warnings.filterwarnings(\"ignore\")"
   ]
  },
  {
   "cell_type": "code",
   "execution_count": 110,
   "id": "10481792",
   "metadata": {},
   "outputs": [],
   "source": [
    "train_df = pd.read_csv('train.csv')\n",
    "test_df = pd.read_csv('test.csv')"
   ]
  },
  {
   "cell_type": "code",
   "execution_count": 111,
   "id": "5c537c46",
   "metadata": {},
   "outputs": [
    {
     "data": {
      "text/plain": [
       "id              0\n",
       "title           0\n",
       "Rating          0\n",
       "maincateg     526\n",
       "platform        0\n",
       "price1          0\n",
       "actprice1       0\n",
       "Offer %         0\n",
       "norating1     678\n",
       "noreviews1    578\n",
       "star_5f       588\n",
       "star_4f       539\n",
       "star_3f       231\n",
       "star_2f         0\n",
       "star_1f         0\n",
       "fulfilled1      0\n",
       "dtype: int64"
      ]
     },
     "execution_count": 111,
     "metadata": {},
     "output_type": "execute_result"
    }
   ],
   "source": [
    "train_df.isnull().sum()"
   ]
  },
  {
   "cell_type": "code",
   "execution_count": 112,
   "id": "b1c50aed",
   "metadata": {},
   "outputs": [],
   "source": [
    "\n",
    "def impute_nan(train_df, variable):\n",
    "    random_sample=train_df[variable].dropna().sample(train_df[variable].isnull().sum(), random_state=0)\n",
    "    random_sample.index=train_df[train_df[variable].isnull()].index\n",
    "    train_df.loc[train_df[variable].isnull(), variable]=random_sample"
   ]
  },
  {
   "cell_type": "code",
   "execution_count": 113,
   "id": "62de2b47",
   "metadata": {},
   "outputs": [],
   "source": [
    "impute_nan(train_df, 'maincateg')\n",
    "impute_nan(test_df, 'maincateg')"
   ]
  },
  {
   "cell_type": "code",
   "execution_count": 114,
   "id": "86cc5dc7",
   "metadata": {},
   "outputs": [
    {
     "data": {
      "text/plain": [
       "id              0\n",
       "title           0\n",
       "Rating          0\n",
       "maincateg       0\n",
       "platform        0\n",
       "price1          0\n",
       "actprice1       0\n",
       "Offer %         0\n",
       "norating1     678\n",
       "noreviews1    578\n",
       "star_5f       588\n",
       "star_4f       539\n",
       "star_3f       231\n",
       "star_2f         0\n",
       "star_1f         0\n",
       "fulfilled1      0\n",
       "dtype: int64"
      ]
     },
     "execution_count": 114,
     "metadata": {},
     "output_type": "execute_result"
    }
   ],
   "source": [
    "train_df.isnull().sum()"
   ]
  },
  {
   "cell_type": "code",
   "execution_count": 115,
   "id": "b1d60ece",
   "metadata": {},
   "outputs": [],
   "source": [
    "def impute_nan2(df, variable):\n",
    "    # df[variable+'_nan']=np.where(df[variable].isnull(),1,0)\n",
    "    impute_nan(df, variable)"
   ]
  },
  {
   "cell_type": "code",
   "execution_count": 116,
   "id": "950d75aa",
   "metadata": {},
   "outputs": [],
   "source": [
    "cols=['norating1', 'noreviews1', 'star_5f', 'star_4f', 'star_3f','star_2f', 'star_1f', 'Rating']\n",
    "for x in cols:\n",
    "    impute_nan2(train_df, x)\n",
    "    impute_nan2(test_df, x)"
   ]
  },
  {
   "cell_type": "code",
   "execution_count": 117,
   "id": "59af05ef",
   "metadata": {},
   "outputs": [
    {
     "data": {
      "text/plain": [
       "id            0\n",
       "title         0\n",
       "Rating        0\n",
       "maincateg     0\n",
       "platform      0\n",
       "actprice1     0\n",
       "norating1     0\n",
       "noreviews1    0\n",
       "star_5f       0\n",
       "star_4f       0\n",
       "star_3f       0\n",
       "star_2f       0\n",
       "star_1f       0\n",
       "fulfilled1    0\n",
       "dtype: int64"
      ]
     },
     "execution_count": 117,
     "metadata": {},
     "output_type": "execute_result"
    }
   ],
   "source": [
    "test_df.isnull().sum()"
   ]
  },
  {
   "cell_type": "code",
   "execution_count": 118,
   "id": "f0e597cb",
   "metadata": {},
   "outputs": [],
   "source": [
    "train_df.drop(columns = ['Offer %'], inplace =True)"
   ]
  },
  {
   "cell_type": "code",
   "execution_count": 119,
   "id": "735cb6cf",
   "metadata": {},
   "outputs": [],
   "source": [
    "continous_features = ['Rating', 'price1','actprice1', 'noreviews1', 'star_5f', 'star_4f', 'star_3f', 'star_2f', 'star_1f'] # Fill the continuous fearures inside the array\n",
    "categorical_features = ['id', 'title', 'maincateg', 'platform', 'fulfilled1'] # Fill the categorical features inside the array"
   ]
  },
  {
   "cell_type": "code",
   "execution_count": 120,
   "id": "19b0697f",
   "metadata": {},
   "outputs": [
    {
     "name": "stdout",
     "output_type": "stream",
     "text": [
      "id : 15730\n",
      "id : 5244\n",
      "title : 4782\n",
      "title : 2383\n",
      "maincateg : 2\n",
      "maincateg : 2\n",
      "platform : 2\n",
      "platform : 2\n",
      "fulfilled1 : 2\n",
      "fulfilled1 : 2\n"
     ]
    }
   ],
   "source": [
    "for x in categorical_features:\n",
    "  print(x,':',len(train_df[x].unique()))\n",
    "  print(x,':',len(test_df[x].unique()))"
   ]
  },
  {
   "cell_type": "code",
   "execution_count": 121,
   "id": "a9394e00",
   "metadata": {},
   "outputs": [],
   "source": [
    "id_train = pd.Series(train_df['id'])\n",
    "id_test = pd.Series(test_df['id'])"
   ]
  },
  {
   "cell_type": "code",
   "execution_count": 122,
   "id": "80046e84",
   "metadata": {},
   "outputs": [
    {
     "name": "stdout",
     "output_type": "stream",
     "text": [
      "Training data set shape:  (15730, 13)\n",
      "Testing data set shape:  (5244, 12)\n"
     ]
    }
   ],
   "source": [
    "train_df.drop('id', axis = 1, inplace = True)\n",
    "train_df.drop('title', axis = 1, inplace = True)\n",
    "test_df.drop('id', axis = 1, inplace = True)\n",
    "test_df.drop('title', axis = 1, inplace = True)\n",
    "\n",
    "print(\"Training data set shape: \", train_df.shape)\n",
    "print(\"Testing data set shape: \", test_df.shape)"
   ]
  },
  {
   "cell_type": "code",
   "execution_count": 123,
   "id": "851d6929",
   "metadata": {},
   "outputs": [
    {
     "data": {
      "text/plain": [
       "(5244, 14)"
      ]
     },
     "execution_count": 123,
     "metadata": {},
     "output_type": "execute_result"
    }
   ],
   "source": [
    "train_df=pd.get_dummies(train_df, columns=['maincateg', 'platform'])\n",
    "train_df.shape\n",
    "test_df=pd.get_dummies(test_df, columns=['maincateg', 'platform'])\n",
    "test_df.shape"
   ]
  },
  {
   "cell_type": "code",
   "execution_count": 124,
   "id": "c971ddeb",
   "metadata": {},
   "outputs": [
    {
     "data": {
      "text/html": [
       "<div>\n",
       "<style scoped>\n",
       "    .dataframe tbody tr th:only-of-type {\n",
       "        vertical-align: middle;\n",
       "    }\n",
       "\n",
       "    .dataframe tbody tr th {\n",
       "        vertical-align: top;\n",
       "    }\n",
       "\n",
       "    .dataframe thead th {\n",
       "        text-align: right;\n",
       "    }\n",
       "</style>\n",
       "<table border=\"1\" class=\"dataframe\">\n",
       "  <thead>\n",
       "    <tr style=\"text-align: right;\">\n",
       "      <th></th>\n",
       "      <th>Rating</th>\n",
       "      <th>price1</th>\n",
       "      <th>actprice1</th>\n",
       "      <th>norating1</th>\n",
       "      <th>noreviews1</th>\n",
       "      <th>star_5f</th>\n",
       "      <th>star_4f</th>\n",
       "      <th>star_3f</th>\n",
       "      <th>star_2f</th>\n",
       "      <th>star_1f</th>\n",
       "      <th>fulfilled1</th>\n",
       "      <th>maincateg_Men</th>\n",
       "      <th>maincateg_Women</th>\n",
       "      <th>platform_Amazon</th>\n",
       "      <th>platform_Flipkart</th>\n",
       "    </tr>\n",
       "  </thead>\n",
       "  <tbody>\n",
       "    <tr>\n",
       "      <th>0</th>\n",
       "      <td>3.9</td>\n",
       "      <td>698</td>\n",
       "      <td>999</td>\n",
       "      <td>38.0</td>\n",
       "      <td>7.0</td>\n",
       "      <td>17.0</td>\n",
       "      <td>9.0</td>\n",
       "      <td>6.0</td>\n",
       "      <td>3</td>\n",
       "      <td>3</td>\n",
       "      <td>0</td>\n",
       "      <td>0</td>\n",
       "      <td>1</td>\n",
       "      <td>0</td>\n",
       "      <td>1</td>\n",
       "    </tr>\n",
       "    <tr>\n",
       "      <th>1</th>\n",
       "      <td>3.8</td>\n",
       "      <td>999</td>\n",
       "      <td>1999</td>\n",
       "      <td>531.0</td>\n",
       "      <td>69.0</td>\n",
       "      <td>264.0</td>\n",
       "      <td>92.0</td>\n",
       "      <td>73.0</td>\n",
       "      <td>29</td>\n",
       "      <td>73</td>\n",
       "      <td>1</td>\n",
       "      <td>1</td>\n",
       "      <td>0</td>\n",
       "      <td>0</td>\n",
       "      <td>1</td>\n",
       "    </tr>\n",
       "    <tr>\n",
       "      <th>2</th>\n",
       "      <td>4.4</td>\n",
       "      <td>2749</td>\n",
       "      <td>4999</td>\n",
       "      <td>17.0</td>\n",
       "      <td>4.0</td>\n",
       "      <td>11.0</td>\n",
       "      <td>3.0</td>\n",
       "      <td>2.0</td>\n",
       "      <td>1</td>\n",
       "      <td>0</td>\n",
       "      <td>1</td>\n",
       "      <td>0</td>\n",
       "      <td>1</td>\n",
       "      <td>0</td>\n",
       "      <td>1</td>\n",
       "    </tr>\n",
       "    <tr>\n",
       "      <th>3</th>\n",
       "      <td>4.2</td>\n",
       "      <td>518</td>\n",
       "      <td>724</td>\n",
       "      <td>46413.0</td>\n",
       "      <td>6229.0</td>\n",
       "      <td>1045.0</td>\n",
       "      <td>12416.0</td>\n",
       "      <td>5352.0</td>\n",
       "      <td>701</td>\n",
       "      <td>4595</td>\n",
       "      <td>1</td>\n",
       "      <td>1</td>\n",
       "      <td>0</td>\n",
       "      <td>0</td>\n",
       "      <td>1</td>\n",
       "    </tr>\n",
       "    <tr>\n",
       "      <th>4</th>\n",
       "      <td>3.9</td>\n",
       "      <td>1379</td>\n",
       "      <td>2299</td>\n",
       "      <td>77.0</td>\n",
       "      <td>3.0</td>\n",
       "      <td>35.0</td>\n",
       "      <td>21.0</td>\n",
       "      <td>7.0</td>\n",
       "      <td>7</td>\n",
       "      <td>7</td>\n",
       "      <td>1</td>\n",
       "      <td>1</td>\n",
       "      <td>0</td>\n",
       "      <td>0</td>\n",
       "      <td>1</td>\n",
       "    </tr>\n",
       "  </tbody>\n",
       "</table>\n",
       "</div>"
      ],
      "text/plain": [
       "   Rating  price1  actprice1  norating1  noreviews1  star_5f  star_4f  \\\n",
       "0     3.9     698        999       38.0         7.0     17.0      9.0   \n",
       "1     3.8     999       1999      531.0        69.0    264.0     92.0   \n",
       "2     4.4    2749       4999       17.0         4.0     11.0      3.0   \n",
       "3     4.2     518        724    46413.0      6229.0   1045.0  12416.0   \n",
       "4     3.9    1379       2299       77.0         3.0     35.0     21.0   \n",
       "\n",
       "   star_3f  star_2f  star_1f  fulfilled1  maincateg_Men  maincateg_Women  \\\n",
       "0      6.0        3        3           0              0                1   \n",
       "1     73.0       29       73           1              1                0   \n",
       "2      2.0        1        0           1              0                1   \n",
       "3   5352.0      701     4595           1              1                0   \n",
       "4      7.0        7        7           1              1                0   \n",
       "\n",
       "   platform_Amazon  platform_Flipkart  \n",
       "0                0                  1  \n",
       "1                0                  1  \n",
       "2                0                  1  \n",
       "3                0                  1  \n",
       "4                0                  1  "
      ]
     },
     "execution_count": 124,
     "metadata": {},
     "output_type": "execute_result"
    }
   ],
   "source": [
    "train_df.head()"
   ]
  },
  {
   "cell_type": "code",
   "execution_count": null,
   "id": "9b1a6bdb",
   "metadata": {},
   "outputs": [],
   "source": []
  },
  {
   "cell_type": "code",
   "execution_count": 125,
   "id": "5400b73b",
   "metadata": {},
   "outputs": [
    {
     "data": {
      "text/plain": [
       "<AxesSubplot:xlabel='noreviews1', ylabel='Density'>"
      ]
     },
     "execution_count": 125,
     "metadata": {},
     "output_type": "execute_result"
    },
    {
     "data": {
      "image/png": "[encoded data removed]",
      "text/plain": [
       "<Figure size 432x288 with 1 Axes>"
      ]
     },
     "metadata": {
      "needs_background": "light"
     },
     "output_type": "display_data"
    }
   ],
   "source": [
    "sns.distplot((train_df['noreviews1']))\n",
    "#train_df['norating1']=np.log(train_df['norating1'])"
   ]
  },
  {
   "cell_type": "code",
   "execution_count": 126,
   "id": "a6d823e5",
   "metadata": {},
   "outputs": [],
   "source": [
    "col=['norating1', 'noreviews1', 'star_5f', 'star_4f', 'star_3f', 'star_2f', 'star_1f']\n",
    "for x in col:\n",
    "    train_df[x]=(train_df[x])**(1/2)\n",
    "    test_df[x]=(test_df[x])**(1/2)\n",
    "train_df['price1']=train_df['price1']**(1/2)"
   ]
  },
  {
   "cell_type": "code",
   "execution_count": 127,
   "id": "2b9702f9",
   "metadata": {},
   "outputs": [
    {
     "name": "stdout",
     "output_type": "stream",
     "text": [
      "norating1: 1.0\n",
      "noreviews1: 0.0\n",
      "star_5f: 0.0\n",
      "star_4f: 0.0\n",
      "star_3f: 0.0\n",
      "star_2f: 0.0\n",
      "star_1f: 0.0\n"
     ]
    }
   ],
   "source": [
    "col=['norating1', 'noreviews1', 'star_5f', 'star_4f', 'star_3f', 'star_2f', 'star_1f']\n",
    "for x in col:\n",
    "    print(x+\":\",train_df[x].min())"
   ]
  },
  {
   "cell_type": "code",
   "execution_count": 128,
   "id": "67926fbf",
   "metadata": {},
   "outputs": [],
   "source": [
    "X = train_df.drop('price1', axis = 1)\n",
    "y = train_df['price1']\n",
    "X_test = test_df"
   ]
  },
  {
   "cell_type": "code",
   "execution_count": 129,
   "id": "dc142084",
   "metadata": {},
   "outputs": [
    {
     "data": {
      "text/html": [
       "<div>\n",
       "<style scoped>\n",
       "    .dataframe tbody tr th:only-of-type {\n",
       "        vertical-align: middle;\n",
       "    }\n",
       "\n",
       "    .dataframe tbody tr th {\n",
       "        vertical-align: top;\n",
       "    }\n",
       "\n",
       "    .dataframe thead th {\n",
       "        text-align: right;\n",
       "    }\n",
       "</style>\n",
       "<table border=\"1\" class=\"dataframe\">\n",
       "  <thead>\n",
       "    <tr style=\"text-align: right;\">\n",
       "      <th></th>\n",
       "      <th>Rating</th>\n",
       "      <th>actprice1</th>\n",
       "      <th>norating1</th>\n",
       "      <th>noreviews1</th>\n",
       "      <th>star_5f</th>\n",
       "      <th>star_4f</th>\n",
       "      <th>star_3f</th>\n",
       "      <th>star_2f</th>\n",
       "      <th>star_1f</th>\n",
       "      <th>fulfilled1</th>\n",
       "      <th>maincateg_Men</th>\n",
       "      <th>maincateg_Women</th>\n",
       "      <th>platform_Amazon</th>\n",
       "      <th>platform_Flipkart</th>\n",
       "    </tr>\n",
       "  </thead>\n",
       "  <tbody>\n",
       "    <tr>\n",
       "      <th>0</th>\n",
       "      <td>3.8</td>\n",
       "      <td>999</td>\n",
       "      <td>167.116726</td>\n",
       "      <td>59.523105</td>\n",
       "      <td>119.323091</td>\n",
       "      <td>65.536250</td>\n",
       "      <td>58.796258</td>\n",
       "      <td>44.294469</td>\n",
       "      <td>63.055531</td>\n",
       "      <td>1</td>\n",
       "      <td>1</td>\n",
       "      <td>0</td>\n",
       "      <td>0</td>\n",
       "      <td>1</td>\n",
       "    </tr>\n",
       "    <tr>\n",
       "      <th>1</th>\n",
       "      <td>3.9</td>\n",
       "      <td>499</td>\n",
       "      <td>54.909016</td>\n",
       "      <td>20.099751</td>\n",
       "      <td>38.183766</td>\n",
       "      <td>25.632011</td>\n",
       "      <td>19.924859</td>\n",
       "      <td>13.490738</td>\n",
       "      <td>17.916473</td>\n",
       "      <td>1</td>\n",
       "      <td>0</td>\n",
       "      <td>1</td>\n",
       "      <td>0</td>\n",
       "      <td>1</td>\n",
       "    </tr>\n",
       "    <tr>\n",
       "      <th>2</th>\n",
       "      <td>3.9</td>\n",
       "      <td>999</td>\n",
       "      <td>21.189620</td>\n",
       "      <td>7.211103</td>\n",
       "      <td>15.132746</td>\n",
       "      <td>8.366600</td>\n",
       "      <td>8.426150</td>\n",
       "      <td>5.744563</td>\n",
       "      <td>6.782330</td>\n",
       "      <td>1</td>\n",
       "      <td>0</td>\n",
       "      <td>1</td>\n",
       "      <td>0</td>\n",
       "      <td>1</td>\n",
       "    </tr>\n",
       "    <tr>\n",
       "      <th>3</th>\n",
       "      <td>3.9</td>\n",
       "      <td>2999</td>\n",
       "      <td>17.029386</td>\n",
       "      <td>6.324555</td>\n",
       "      <td>11.874342</td>\n",
       "      <td>7.141428</td>\n",
       "      <td>7.000000</td>\n",
       "      <td>4.123106</td>\n",
       "      <td>5.656854</td>\n",
       "      <td>1</td>\n",
       "      <td>1</td>\n",
       "      <td>0</td>\n",
       "      <td>0</td>\n",
       "      <td>1</td>\n",
       "    </tr>\n",
       "    <tr>\n",
       "      <th>4</th>\n",
       "      <td>3.9</td>\n",
       "      <td>999</td>\n",
       "      <td>49.223978</td>\n",
       "      <td>18.055470</td>\n",
       "      <td>35.566838</td>\n",
       "      <td>20.346990</td>\n",
       "      <td>17.117243</td>\n",
       "      <td>11.958261</td>\n",
       "      <td>17.549929</td>\n",
       "      <td>0</td>\n",
       "      <td>1</td>\n",
       "      <td>0</td>\n",
       "      <td>0</td>\n",
       "      <td>1</td>\n",
       "    </tr>\n",
       "    <tr>\n",
       "      <th>...</th>\n",
       "      <td>...</td>\n",
       "      <td>...</td>\n",
       "      <td>...</td>\n",
       "      <td>...</td>\n",
       "      <td>...</td>\n",
       "      <td>...</td>\n",
       "      <td>...</td>\n",
       "      <td>...</td>\n",
       "      <td>...</td>\n",
       "      <td>...</td>\n",
       "      <td>...</td>\n",
       "      <td>...</td>\n",
       "      <td>...</td>\n",
       "      <td>...</td>\n",
       "    </tr>\n",
       "    <tr>\n",
       "      <th>5239</th>\n",
       "      <td>4.2</td>\n",
       "      <td>699</td>\n",
       "      <td>35.142567</td>\n",
       "      <td>12.369317</td>\n",
       "      <td>10.723805</td>\n",
       "      <td>17.972201</td>\n",
       "      <td>12.449900</td>\n",
       "      <td>7.874008</td>\n",
       "      <td>9.165151</td>\n",
       "      <td>1</td>\n",
       "      <td>0</td>\n",
       "      <td>1</td>\n",
       "      <td>0</td>\n",
       "      <td>1</td>\n",
       "    </tr>\n",
       "    <tr>\n",
       "      <th>5240</th>\n",
       "      <td>3.9</td>\n",
       "      <td>1993</td>\n",
       "      <td>18.138357</td>\n",
       "      <td>7.483315</td>\n",
       "      <td>18.708287</td>\n",
       "      <td>6.082763</td>\n",
       "      <td>7.745967</td>\n",
       "      <td>2.236068</td>\n",
       "      <td>6.082763</td>\n",
       "      <td>0</td>\n",
       "      <td>1</td>\n",
       "      <td>0</td>\n",
       "      <td>0</td>\n",
       "      <td>1</td>\n",
       "    </tr>\n",
       "    <tr>\n",
       "      <th>5241</th>\n",
       "      <td>3.8</td>\n",
       "      <td>999</td>\n",
       "      <td>35.777088</td>\n",
       "      <td>11.618950</td>\n",
       "      <td>23.958297</td>\n",
       "      <td>17.029386</td>\n",
       "      <td>13.114877</td>\n",
       "      <td>9.695360</td>\n",
       "      <td>12.247449</td>\n",
       "      <td>0</td>\n",
       "      <td>0</td>\n",
       "      <td>1</td>\n",
       "      <td>0</td>\n",
       "      <td>1</td>\n",
       "    </tr>\n",
       "    <tr>\n",
       "      <th>5242</th>\n",
       "      <td>3.9</td>\n",
       "      <td>499</td>\n",
       "      <td>69.763888</td>\n",
       "      <td>23.958297</td>\n",
       "      <td>48.826222</td>\n",
       "      <td>31.208973</td>\n",
       "      <td>25.455844</td>\n",
       "      <td>18.110770</td>\n",
       "      <td>23.086793</td>\n",
       "      <td>0</td>\n",
       "      <td>0</td>\n",
       "      <td>1</td>\n",
       "      <td>0</td>\n",
       "      <td>1</td>\n",
       "    </tr>\n",
       "    <tr>\n",
       "      <th>5243</th>\n",
       "      <td>3.9</td>\n",
       "      <td>749</td>\n",
       "      <td>2.828427</td>\n",
       "      <td>2.236068</td>\n",
       "      <td>5.291503</td>\n",
       "      <td>0.000000</td>\n",
       "      <td>0.000000</td>\n",
       "      <td>0.000000</td>\n",
       "      <td>8.485281</td>\n",
       "      <td>1</td>\n",
       "      <td>0</td>\n",
       "      <td>1</td>\n",
       "      <td>1</td>\n",
       "      <td>0</td>\n",
       "    </tr>\n",
       "  </tbody>\n",
       "</table>\n",
       "<p>5244 rows × 14 columns</p>\n",
       "</div>"
      ],
      "text/plain": [
       "      Rating  actprice1   norating1  noreviews1     star_5f    star_4f  \\\n",
       "0        3.8        999  167.116726   59.523105  119.323091  65.536250   \n",
       "1        3.9        499   54.909016   20.099751   38.183766  25.632011   \n",
       "2        3.9        999   21.189620    7.211103   15.132746   8.366600   \n",
       "3        3.9       2999   17.029386    6.324555   11.874342   7.141428   \n",
       "4        3.9        999   49.223978   18.055470   35.566838  20.346990   \n",
       "...      ...        ...         ...         ...         ...        ...   \n",
       "5239     4.2        699   35.142567   12.369317   10.723805  17.972201   \n",
       "5240     3.9       1993   18.138357    7.483315   18.708287   6.082763   \n",
       "5241     3.8        999   35.777088   11.618950   23.958297  17.029386   \n",
       "5242     3.9        499   69.763888   23.958297   48.826222  31.208973   \n",
       "5243     3.9        749    2.828427    2.236068    5.291503   0.000000   \n",
       "\n",
       "        star_3f    star_2f    star_1f  fulfilled1  maincateg_Men  \\\n",
       "0     58.796258  44.294469  63.055531           1              1   \n",
       "1     19.924859  13.490738  17.916473           1              0   \n",
       "2      8.426150   5.744563   6.782330           1              0   \n",
       "3      7.000000   4.123106   5.656854           1              1   \n",
       "4     17.117243  11.958261  17.549929           0              1   \n",
       "...         ...        ...        ...         ...            ...   \n",
       "5239  12.449900   7.874008   9.165151           1              0   \n",
       "5240   7.745967   2.236068   6.082763           0              1   \n",
       "5241  13.114877   9.695360  12.247449           0              0   \n",
       "5242  25.455844  18.110770  23.086793           0              0   \n",
       "5243   0.000000   0.000000   8.485281           1              0   \n",
       "\n",
       "      maincateg_Women  platform_Amazon  platform_Flipkart  \n",
       "0                   0                0                  1  \n",
       "1                   1                0                  1  \n",
       "2                   1                0                  1  \n",
       "3                   0                0                  1  \n",
       "4                   0                0                  1  \n",
       "...               ...              ...                ...  \n",
       "5239                1                0                  1  \n",
       "5240                0                0                  1  \n",
       "5241                1                0                  1  \n",
       "5242                1                0                  1  \n",
       "5243                1                1                  0  \n",
       "\n",
       "[5244 rows x 14 columns]"
      ]
     },
     "execution_count": 129,
     "metadata": {},
     "output_type": "execute_result"
    }
   ],
   "source": [
    "X_test"
   ]
  },
  {
   "cell_type": "code",
   "execution_count": 130,
   "id": "06c584df",
   "metadata": {},
   "outputs": [
    {
     "data": {
      "text/html": [
       "<div>\n",
       "<style scoped>\n",
       "    .dataframe tbody tr th:only-of-type {\n",
       "        vertical-align: middle;\n",
       "    }\n",
       "\n",
       "    .dataframe tbody tr th {\n",
       "        vertical-align: top;\n",
       "    }\n",
       "\n",
       "    .dataframe thead th {\n",
       "        text-align: right;\n",
       "    }\n",
       "</style>\n",
       "<table border=\"1\" class=\"dataframe\">\n",
       "  <thead>\n",
       "    <tr style=\"text-align: right;\">\n",
       "      <th></th>\n",
       "      <th>Rating</th>\n",
       "      <th>actprice1</th>\n",
       "      <th>norating1</th>\n",
       "      <th>noreviews1</th>\n",
       "      <th>star_5f</th>\n",
       "      <th>star_4f</th>\n",
       "      <th>star_3f</th>\n",
       "      <th>star_2f</th>\n",
       "      <th>star_1f</th>\n",
       "      <th>fulfilled1</th>\n",
       "      <th>maincateg_Men</th>\n",
       "      <th>maincateg_Women</th>\n",
       "      <th>platform_Amazon</th>\n",
       "      <th>platform_Flipkart</th>\n",
       "    </tr>\n",
       "  </thead>\n",
       "  <tbody>\n",
       "    <tr>\n",
       "      <th>0</th>\n",
       "      <td>3.8</td>\n",
       "      <td>999</td>\n",
       "      <td>167.116726</td>\n",
       "      <td>59.523105</td>\n",
       "      <td>119.323091</td>\n",
       "      <td>65.536250</td>\n",
       "      <td>58.796258</td>\n",
       "      <td>44.294469</td>\n",
       "      <td>63.055531</td>\n",
       "      <td>1</td>\n",
       "      <td>1</td>\n",
       "      <td>0</td>\n",
       "      <td>0</td>\n",
       "      <td>1</td>\n",
       "    </tr>\n",
       "    <tr>\n",
       "      <th>1</th>\n",
       "      <td>3.9</td>\n",
       "      <td>499</td>\n",
       "      <td>54.909016</td>\n",
       "      <td>20.099751</td>\n",
       "      <td>38.183766</td>\n",
       "      <td>25.632011</td>\n",
       "      <td>19.924859</td>\n",
       "      <td>13.490738</td>\n",
       "      <td>17.916473</td>\n",
       "      <td>1</td>\n",
       "      <td>0</td>\n",
       "      <td>1</td>\n",
       "      <td>0</td>\n",
       "      <td>1</td>\n",
       "    </tr>\n",
       "    <tr>\n",
       "      <th>2</th>\n",
       "      <td>3.9</td>\n",
       "      <td>999</td>\n",
       "      <td>21.189620</td>\n",
       "      <td>7.211103</td>\n",
       "      <td>15.132746</td>\n",
       "      <td>8.366600</td>\n",
       "      <td>8.426150</td>\n",
       "      <td>5.744563</td>\n",
       "      <td>6.782330</td>\n",
       "      <td>1</td>\n",
       "      <td>0</td>\n",
       "      <td>1</td>\n",
       "      <td>0</td>\n",
       "      <td>1</td>\n",
       "    </tr>\n",
       "    <tr>\n",
       "      <th>3</th>\n",
       "      <td>3.9</td>\n",
       "      <td>2999</td>\n",
       "      <td>17.029386</td>\n",
       "      <td>6.324555</td>\n",
       "      <td>11.874342</td>\n",
       "      <td>7.141428</td>\n",
       "      <td>7.000000</td>\n",
       "      <td>4.123106</td>\n",
       "      <td>5.656854</td>\n",
       "      <td>1</td>\n",
       "      <td>1</td>\n",
       "      <td>0</td>\n",
       "      <td>0</td>\n",
       "      <td>1</td>\n",
       "    </tr>\n",
       "    <tr>\n",
       "      <th>4</th>\n",
       "      <td>3.9</td>\n",
       "      <td>999</td>\n",
       "      <td>49.223978</td>\n",
       "      <td>18.055470</td>\n",
       "      <td>35.566838</td>\n",
       "      <td>20.346990</td>\n",
       "      <td>17.117243</td>\n",
       "      <td>11.958261</td>\n",
       "      <td>17.549929</td>\n",
       "      <td>0</td>\n",
       "      <td>1</td>\n",
       "      <td>0</td>\n",
       "      <td>0</td>\n",
       "      <td>1</td>\n",
       "    </tr>\n",
       "  </tbody>\n",
       "</table>\n",
       "</div>"
      ],
      "text/plain": [
       "   Rating  actprice1   norating1  noreviews1     star_5f    star_4f  \\\n",
       "0     3.8        999  167.116726   59.523105  119.323091  65.536250   \n",
       "1     3.9        499   54.909016   20.099751   38.183766  25.632011   \n",
       "2     3.9        999   21.189620    7.211103   15.132746   8.366600   \n",
       "3     3.9       2999   17.029386    6.324555   11.874342   7.141428   \n",
       "4     3.9        999   49.223978   18.055470   35.566838  20.346990   \n",
       "\n",
       "     star_3f    star_2f    star_1f  fulfilled1  maincateg_Men  \\\n",
       "0  58.796258  44.294469  63.055531           1              1   \n",
       "1  19.924859  13.490738  17.916473           1              0   \n",
       "2   8.426150   5.744563   6.782330           1              0   \n",
       "3   7.000000   4.123106   5.656854           1              1   \n",
       "4  17.117243  11.958261  17.549929           0              1   \n",
       "\n",
       "   maincateg_Women  platform_Amazon  platform_Flipkart  \n",
       "0                0                0                  1  \n",
       "1                1                0                  1  \n",
       "2                1                0                  1  \n",
       "3                0                0                  1  \n",
       "4                0                0                  1  "
      ]
     },
     "execution_count": 130,
     "metadata": {},
     "output_type": "execute_result"
    }
   ],
   "source": [
    "test_df.head()"
   ]
  },
  {
   "cell_type": "code",
   "execution_count": null,
   "id": "d5f848e5",
   "metadata": {},
   "outputs": [],
   "source": []
  },
  {
   "cell_type": "code",
   "execution_count": 131,
   "id": "347c87c6",
   "metadata": {},
   "outputs": [],
   "source": [
    "from sklearn.preprocessing import StandardScaler\n",
    "scaler = StandardScaler()\n",
    "col_names = ['Rating','actprice1','norating1','noreviews1','star_5f','star_4f','star_3f','star_2f','star_1f','fulfilled1']\n",
    "features = X[col_names]\n",
    "X[col_names] = scaler.fit_transform(features.values)\n",
    "\n",
    "features = X_test[col_names]\n",
    "X_test[col_names] = scaler.fit_transform(features.values)\n",
    "\n",
    "\n",
    "\n",
    "\n",
    "\n"
   ]
  },
  {
   "cell_type": "code",
   "execution_count": 105,
   "id": "183c10f9",
   "metadata": {},
   "outputs": [
    {
     "data": {
      "text/plain": [
       "(5244, 14)"
      ]
     },
     "execution_count": 105,
     "metadata": {},
     "output_type": "execute_result"
    }
   ],
   "source": [
    "X_test.shape"
   ]
  },
  {
   "cell_type": "code",
   "execution_count": 77,
   "id": "a1a6051d",
   "metadata": {},
   "outputs": [],
   "source": [
    "from sklearn.model_selection import train_test_split\n",
    "#X_train, X_tes, y_train, y_tes = train_test_split(X, y, test_size = 0.33, random_state = 42)"
   ]
  },
  {
   "cell_type": "code",
   "execution_count": 26,
   "id": "e0dc627b",
   "metadata": {},
   "outputs": [
    {
     "name": "stdout",
     "output_type": "stream",
     "text": [
      "Epoch 1/100\n",
      "330/330 [==============================] - 2s 3ms/step - loss: 256019.7188 - mean_squared_error: 256019.7188\n",
      "Epoch 2/100\n",
      "330/330 [==============================] - 1s 3ms/step - loss: 81167.5391 - mean_squared_error: 81167.5391\n",
      "Epoch 3/100\n",
      "330/330 [==============================] - 1s 3ms/step - loss: 79769.9297 - mean_squared_error: 79769.9297\n",
      "Epoch 4/100\n",
      "330/330 [==============================] - 1s 3ms/step - loss: 78656.3594 - mean_squared_error: 78656.3594\n",
      "Epoch 5/100\n",
      "330/330 [==============================] - 1s 3ms/step - loss: 78892.0156 - mean_squared_error: 78892.0156\n",
      "Epoch 6/100\n",
      "330/330 [==============================] - 1s 3ms/step - loss: 78742.5078 - mean_squared_error: 78742.5078\n",
      "Epoch 7/100\n",
      "330/330 [==============================] - 1s 3ms/step - loss: 78191.9219 - mean_squared_error: 78191.9219\n",
      "Epoch 8/100\n",
      "330/330 [==============================] - 1s 3ms/step - loss: 77406.5000 - mean_squared_error: 77406.5000\n",
      "Epoch 9/100\n",
      "330/330 [==============================] - 1s 3ms/step - loss: 77105.8359 - mean_squared_error: 77105.8359\n",
      "Epoch 10/100\n",
      "330/330 [==============================] - 1s 3ms/step - loss: 77530.1484 - mean_squared_error: 77530.1484\n",
      "Epoch 11/100\n",
      "330/330 [==============================] - 1s 3ms/step - loss: 76781.0469 - mean_squared_error: 76781.0469\n",
      "Epoch 12/100\n",
      "330/330 [==============================] - 1s 3ms/step - loss: 76204.3359 - mean_squared_error: 76204.3359\n",
      "Epoch 13/100\n",
      "330/330 [==============================] - 1s 3ms/step - loss: 76096.0781 - mean_squared_error: 76096.0781\n",
      "Epoch 14/100\n",
      "330/330 [==============================] - 1s 3ms/step - loss: 76185.9766 - mean_squared_error: 76185.9766\n",
      "Epoch 15/100\n",
      "330/330 [==============================] - 1s 3ms/step - loss: 75427.1875 - mean_squared_error: 75427.1875\n",
      "Epoch 16/100\n",
      "330/330 [==============================] - 1s 3ms/step - loss: 75094.9375 - mean_squared_error: 75094.9375\n",
      "Epoch 17/100\n",
      "330/330 [==============================] - 1s 3ms/step - loss: 75201.7344 - mean_squared_error: 75201.7344\n",
      "Epoch 18/100\n",
      "330/330 [==============================] - 1s 3ms/step - loss: 75237.8359 - mean_squared_error: 75237.8359\n",
      "Epoch 19/100\n",
      "330/330 [==============================] - 1s 3ms/step - loss: 75349.6250 - mean_squared_error: 75349.6250\n",
      "Epoch 20/100\n",
      "330/330 [==============================] - 1s 3ms/step - loss: 74153.1641 - mean_squared_error: 74153.1641\n",
      "Epoch 21/100\n",
      "330/330 [==============================] - 1s 3ms/step - loss: 74539.2344 - mean_squared_error: 74539.2344\n",
      "Epoch 22/100\n",
      "330/330 [==============================] - 1s 3ms/step - loss: 74195.8281 - mean_squared_error: 74195.8281\n",
      "Epoch 23/100\n",
      "330/330 [==============================] - 1s 3ms/step - loss: 74165.0547 - mean_squared_error: 74165.0547\n",
      "Epoch 24/100\n",
      "330/330 [==============================] - 1s 3ms/step - loss: 74091.9922 - mean_squared_error: 74091.9922\n",
      "Epoch 25/100\n",
      "330/330 [==============================] - 1s 3ms/step - loss: 73991.5781 - mean_squared_error: 73991.5781\n",
      "Epoch 26/100\n",
      "330/330 [==============================] - 1s 3ms/step - loss: 73604.1094 - mean_squared_error: 73604.1094\n",
      "Epoch 27/100\n",
      "330/330 [==============================] - 1s 3ms/step - loss: 72916.4297 - mean_squared_error: 72916.4297\n",
      "Epoch 28/100\n",
      "330/330 [==============================] - 1s 3ms/step - loss: 73125.3984 - mean_squared_error: 73125.3984\n",
      "Epoch 29/100\n",
      "330/330 [==============================] - 1s 3ms/step - loss: 72953.6328 - mean_squared_error: 72953.6328\n",
      "Epoch 30/100\n",
      "330/330 [==============================] - 1s 3ms/step - loss: 72236.9844 - mean_squared_error: 72236.9844\n",
      "Epoch 31/100\n",
      "330/330 [==============================] - 1s 3ms/step - loss: 72432.2266 - mean_squared_error: 72432.2266\n",
      "Epoch 32/100\n",
      "330/330 [==============================] - 1s 3ms/step - loss: 72455.2422 - mean_squared_error: 72455.2422\n",
      "Epoch 33/100\n",
      "330/330 [==============================] - 1s 2ms/step - loss: 72337.0781 - mean_squared_error: 72337.0781\n",
      "Epoch 34/100\n",
      "330/330 [==============================] - 1s 3ms/step - loss: 72317.4609 - mean_squared_error: 72317.4609\n",
      "Epoch 35/100\n",
      "330/330 [==============================] - 1s 4ms/step - loss: 71637.4141 - mean_squared_error: 71637.4141\n",
      "Epoch 36/100\n",
      "330/330 [==============================] - 1s 3ms/step - loss: 71177.2578 - mean_squared_error: 71177.2578\n",
      "Epoch 37/100\n",
      "330/330 [==============================] - 1s 3ms/step - loss: 70771.7656 - mean_squared_error: 70771.7656\n",
      "Epoch 38/100\n",
      "330/330 [==============================] - 1s 3ms/step - loss: 72044.6016 - mean_squared_error: 72044.6016\n",
      "Epoch 39/100\n",
      "330/330 [==============================] - 1s 3ms/step - loss: 70650.3984 - mean_squared_error: 70650.3984\n",
      "Epoch 40/100\n",
      "330/330 [==============================] - 1s 3ms/step - loss: 70603.9062 - mean_squared_error: 70603.9062\n",
      "Epoch 41/100\n",
      "330/330 [==============================] - 1s 2ms/step - loss: 70581.6094 - mean_squared_error: 70581.6094\n",
      "Epoch 42/100\n",
      "330/330 [==============================] - 1s 2ms/step - loss: 70845.4688 - mean_squared_error: 70845.4688\n",
      "Epoch 43/100\n",
      "330/330 [==============================] - 1s 3ms/step - loss: 70404.0469 - mean_squared_error: 70404.0469\n",
      "Epoch 44/100\n",
      "330/330 [==============================] - 1s 3ms/step - loss: 69801.2109 - mean_squared_error: 69801.2109\n",
      "Epoch 45/100\n",
      "330/330 [==============================] - 1s 2ms/step - loss: 70539.9375 - mean_squared_error: 70539.9375\n",
      "Epoch 46/100\n",
      "330/330 [==============================] - 1s 3ms/step - loss: 69378.6641 - mean_squared_error: 69378.6641\n",
      "Epoch 47/100\n",
      "330/330 [==============================] - 1s 3ms/step - loss: 69112.6328 - mean_squared_error: 69112.6328\n",
      "Epoch 48/100\n",
      "330/330 [==============================] - 1s 3ms/step - loss: 69345.8281 - mean_squared_error: 69345.8281\n",
      "Epoch 49/100\n",
      "330/330 [==============================] - 1s 3ms/step - loss: 68580.1484 - mean_squared_error: 68580.1484\n",
      "Epoch 50/100\n",
      "330/330 [==============================] - 1s 3ms/step - loss: 69277.4688 - mean_squared_error: 69277.4688\n",
      "Epoch 51/100\n",
      "330/330 [==============================] - 1s 3ms/step - loss: 68504.6562 - mean_squared_error: 68504.6562\n",
      "Epoch 52/100\n",
      "330/330 [==============================] - 1s 3ms/step - loss: 68908.3281 - mean_squared_error: 68908.3281\n",
      "Epoch 53/100\n",
      "330/330 [==============================] - 1s 3ms/step - loss: 68500.6797 - mean_squared_error: 68500.6797\n",
      "Epoch 54/100\n",
      "330/330 [==============================] - 1s 3ms/step - loss: 68370.6172 - mean_squared_error: 68370.6172\n",
      "Epoch 55/100\n",
      "330/330 [==============================] - 1s 3ms/step - loss: 68015.9453 - mean_squared_error: 68015.9453\n",
      "Epoch 56/100\n",
      "330/330 [==============================] - 1s 3ms/step - loss: 67978.6094 - mean_squared_error: 67978.6094\n",
      "Epoch 57/100\n",
      "330/330 [==============================] - 1s 3ms/step - loss: 67005.5312 - mean_squared_error: 67005.5312\n",
      "Epoch 58/100\n",
      "330/330 [==============================] - 1s 3ms/step - loss: 67466.1875 - mean_squared_error: 67466.1875\n",
      "Epoch 59/100\n",
      "330/330 [==============================] - 1s 2ms/step - loss: 67666.3906 - mean_squared_error: 67666.3906\n",
      "Epoch 60/100\n",
      "330/330 [==============================] - 1s 2ms/step - loss: 67084.8672 - mean_squared_error: 67084.8672\n",
      "Epoch 61/100\n",
      "330/330 [==============================] - 1s 3ms/step - loss: 67332.6484 - mean_squared_error: 67332.6484\n",
      "Epoch 62/100\n",
      "330/330 [==============================] - 1s 2ms/step - loss: 66721.4219 - mean_squared_error: 66721.4219\n",
      "Epoch 63/100\n",
      "330/330 [==============================] - 1s 3ms/step - loss: 66324.1016 - mean_squared_error: 66324.1016\n",
      "Epoch 64/100\n",
      "330/330 [==============================] - 1s 3ms/step - loss: 66837.5000 - mean_squared_error: 66837.5000\n",
      "Epoch 65/100\n",
      "330/330 [==============================] - 1s 3ms/step - loss: 67183.3828 - mean_squared_error: 67183.3828\n",
      "Epoch 66/100\n",
      "330/330 [==============================] - 1s 3ms/step - loss: 66513.6875 - mean_squared_error: 66513.6875\n",
      "Epoch 67/100\n",
      "330/330 [==============================] - 1s 3ms/step - loss: 66011.4609 - mean_squared_error: 66011.4609\n",
      "Epoch 68/100\n",
      "330/330 [==============================] - 1s 3ms/step - loss: 65491.8320 - mean_squared_error: 65491.8320\n",
      "Epoch 69/100\n"
     ]
    },
    {
     "name": "stdout",
     "output_type": "stream",
     "text": [
      "330/330 [==============================] - 1s 3ms/step - loss: 65686.3828 - mean_squared_error: 65686.3828\n",
      "Epoch 70/100\n",
      "330/330 [==============================] - 1s 3ms/step - loss: 65568.8438 - mean_squared_error: 65568.8438\n",
      "Epoch 71/100\n",
      "330/330 [==============================] - 1s 3ms/step - loss: 65138.9453 - mean_squared_error: 65138.9453\n",
      "Epoch 72/100\n",
      "330/330 [==============================] - 1s 3ms/step - loss: 65179.2891 - mean_squared_error: 65179.2891\n",
      "Epoch 73/100\n",
      "330/330 [==============================] - 1s 3ms/step - loss: 65468.7383 - mean_squared_error: 65468.7383\n",
      "Epoch 74/100\n",
      "330/330 [==============================] - 1s 3ms/step - loss: 64994.4766 - mean_squared_error: 64994.4766\n",
      "Epoch 75/100\n",
      "330/330 [==============================] - 1s 3ms/step - loss: 64649.8672 - mean_squared_error: 64649.8672\n",
      "Epoch 76/100\n",
      "330/330 [==============================] - 1s 3ms/step - loss: 64999.4297 - mean_squared_error: 64999.4297\n",
      "Epoch 77/100\n",
      "330/330 [==============================] - 1s 2ms/step - loss: 64573.9609 - mean_squared_error: 64573.9609\n",
      "Epoch 78/100\n",
      "330/330 [==============================] - 1s 3ms/step - loss: 65534.8828 - mean_squared_error: 65534.8828\n",
      "Epoch 79/100\n",
      "330/330 [==============================] - 1s 3ms/step - loss: 64374.5195 - mean_squared_error: 64374.5195\n",
      "Epoch 80/100\n",
      "330/330 [==============================] - 1s 3ms/step - loss: 64270.9375 - mean_squared_error: 64270.9375\n",
      "Epoch 81/100\n",
      "330/330 [==============================] - 1s 3ms/step - loss: 64543.1523 - mean_squared_error: 64543.1523\n",
      "Epoch 82/100\n",
      "330/330 [==============================] - 1s 3ms/step - loss: 64694.4336 - mean_squared_error: 64694.4336\n",
      "Epoch 83/100\n",
      "330/330 [==============================] - 1s 3ms/step - loss: 63887.3281 - mean_squared_error: 63887.3281\n",
      "Epoch 84/100\n",
      "330/330 [==============================] - 1s 3ms/step - loss: 64340.5000 - mean_squared_error: 64340.5000\n",
      "Epoch 85/100\n",
      "330/330 [==============================] - 1s 2ms/step - loss: 63930.1406 - mean_squared_error: 63930.1406\n",
      "Epoch 86/100\n",
      "330/330 [==============================] - 1s 2ms/step - loss: 63414.5625 - mean_squared_error: 63414.5625\n",
      "Epoch 87/100\n",
      "330/330 [==============================] - 1s 3ms/step - loss: 64251.5898 - mean_squared_error: 64251.5898\n",
      "Epoch 88/100\n",
      "330/330 [==============================] - 1s 3ms/step - loss: 63807.7695 - mean_squared_error: 63807.7695\n",
      "Epoch 89/100\n",
      "330/330 [==============================] - 1s 3ms/step - loss: 63973.0117 - mean_squared_error: 63973.0117\n",
      "Epoch 90/100\n",
      "330/330 [==============================] - 1s 3ms/step - loss: 63309.2695 - mean_squared_error: 63309.2695\n",
      "Epoch 91/100\n",
      "330/330 [==============================] - 1s 3ms/step - loss: 62840.0391 - mean_squared_error: 62840.0391\n",
      "Epoch 92/100\n",
      "330/330 [==============================] - 1s 3ms/step - loss: 62476.9180 - mean_squared_error: 62476.9180\n",
      "Epoch 93/100\n",
      "330/330 [==============================] - 1s 3ms/step - loss: 63524.7930 - mean_squared_error: 63524.7930\n",
      "Epoch 94/100\n",
      "330/330 [==============================] - 1s 3ms/step - loss: 62285.5430 - mean_squared_error: 62285.5430\n",
      "Epoch 95/100\n",
      "330/330 [==============================] - 1s 3ms/step - loss: 62762.7031 - mean_squared_error: 62762.7031\n",
      "Epoch 96/100\n",
      "330/330 [==============================] - 1s 4ms/step - loss: 62479.4297 - mean_squared_error: 62479.4297\n",
      "Epoch 97/100\n",
      "330/330 [==============================] - 1s 4ms/step - loss: 62413.9961 - mean_squared_error: 62413.9961\n",
      "Epoch 98/100\n",
      "330/330 [==============================] - 1s 4ms/step - loss: 62465.0586 - mean_squared_error: 62465.0586\n",
      "Epoch 99/100\n",
      "330/330 [==============================] - 2s 5ms/step - loss: 61984.0273 - mean_squared_error: 61984.0273\n",
      "Epoch 100/100\n",
      "330/330 [==============================] - 1s 4ms/step - loss: 62495.8711 - mean_squared_error: 62495.8711\n"
     ]
    },
    {
     "data": {
      "text/plain": [
       "<keras.callbacks.History at 0x27e89737850>"
      ]
     },
     "execution_count": 26,
     "metadata": {},
     "output_type": "execute_result"
    }
   ],
   "source": [
    "import keras\n",
    "from keras.models import Sequential\n",
    "from keras.layers import Dense\n",
    "model = Sequential()\n",
    "model.add(Dense(500, input_dim=X_train.shape[1], activation= \"relu\"))\n",
    "model.add(Dense(100, activation= \"relu\"))\n",
    "model.add(Dense(50, activation= \"relu\"))\n",
    "model.add(Dense(1))\n",
    "model.compile(loss= \"mean_squared_error\" , optimizer=\"adam\", metrics=[\"mean_squared_error\"])\n",
    "model.fit(X_train, y_train, epochs=100)\n"
   ]
  },
  {
   "cell_type": "code",
   "execution_count": 27,
   "id": "ff0b9dd1",
   "metadata": {},
   "outputs": [
    {
     "name": "stdout",
     "output_type": "stream",
     "text": [
      "163/163 [==============================] - 1s 3ms/step\n",
      "Test RMSE:  1225957.6582621764\n"
     ]
    }
   ],
   "source": [
    "import sklearn\n",
    "preds1 = (model.predict(X_tes))**2\n",
    "print(\"Test RMSE: \", np.sqrt(sklearn.metrics.mean_squared_error(y_tes**2, preds1)))"
   ]
  },
  {
   "cell_type": "code",
   "execution_count": null,
   "id": "18843f90",
   "metadata": {},
   "outputs": [],
   "source": []
  },
  {
   "cell_type": "code",
   "execution_count": 28,
   "id": "b195763e",
   "metadata": {},
   "outputs": [
    {
     "name": "stdout",
     "output_type": "stream",
     "text": [
      "164/164 [==============================] - 1s 3ms/step\n"
     ]
    },
    {
     "data": {
      "text/plain": [
       "(5244,)"
      ]
     },
     "execution_count": 28,
     "metadata": {},
     "output_type": "execute_result"
    }
   ],
   "source": [
    "preds1 = model.predict(X_test)\n",
    "id_test.to_numpy()\n",
    "\n",
    "preds1[:,0].shape"
   ]
  },
  {
   "cell_type": "code",
   "execution_count": null,
   "id": "3abbbf0f",
   "metadata": {},
   "outputs": [],
   "source": []
  },
  {
   "cell_type": "code",
   "execution_count": 29,
   "id": "05c6fd2e",
   "metadata": {},
   "outputs": [
    {
     "data": {
      "text/plain": [
       "array([[435.96234],\n",
       "       [302.25082],\n",
       "       [455.65173],\n",
       "       ...,\n",
       "       [408.8594 ],\n",
       "       [252.02719],\n",
       "       [785.4235 ]], dtype=float32)"
      ]
     },
     "execution_count": 29,
     "metadata": {},
     "output_type": "execute_result"
    }
   ],
   "source": [
    "preds1"
   ]
  },
  {
   "cell_type": "code",
   "execution_count": 30,
   "id": "809e4540",
   "metadata": {},
   "outputs": [
    {
     "data": {
      "text/plain": [
       "(1, 3)"
      ]
     },
     "execution_count": 30,
     "metadata": {},
     "output_type": "execute_result"
    }
   ],
   "source": [
    "np.array([[1,2,3]]).shape"
   ]
  },
  {
   "cell_type": "code",
   "execution_count": 31,
   "id": "3d56c809",
   "metadata": {
    "scrolled": true
   },
   "outputs": [
    {
     "data": {
      "text/plain": [
       "array([[ 2242.        ,   435.96234131],\n",
       "       [20532.        ,   302.25082397],\n",
       "       [10648.        ,   455.6517334 ],\n",
       "       ...,\n",
       "       [18733.        ,   408.85940552],\n",
       "       [ 6162.        ,   252.02719116],\n",
       "       [13574.        ,   785.42352295]])"
      ]
     },
     "execution_count": 31,
     "metadata": {},
     "output_type": "execute_result"
    }
   ],
   "source": [
    "\n",
    "data = np.array([id_test, preds1[:,0]]).T\n",
    "\n",
    "pd.DataFrame(data=data, columns = ['id','price1']).to_csv('submission1807.csv')\n",
    "data"
   ]
  },
  {
   "cell_type": "code",
   "execution_count": null,
   "id": "09098ec7",
   "metadata": {},
   "outputs": [],
   "source": []
  },
  {
   "cell_type": "code",
   "execution_count": 32,
   "id": "025061fe",
   "metadata": {},
   "outputs": [
    {
     "ename": "NameError",
     "evalue": "name 'X_cv' is not defined",
     "output_type": "error",
     "traceback": [
      "\u001b[1;31m---------------------------------------------------------------------------\u001b[0m",
      "\u001b[1;31mNameError\u001b[0m                                 Traceback (most recent call last)",
      "\u001b[1;32m~\\AppData\\Local\\Temp/ipykernel_14260/290383836.py\u001b[0m in \u001b[0;36m<module>\u001b[1;34m\u001b[0m\n\u001b[0;32m      1\u001b[0m \u001b[1;32mfrom\u001b[0m \u001b[0msklearn\u001b[0m\u001b[1;33m.\u001b[0m\u001b[0mneural_network\u001b[0m \u001b[1;32mimport\u001b[0m \u001b[0mMLPRegressor\u001b[0m\u001b[1;33m\u001b[0m\u001b[1;33m\u001b[0m\u001b[0m\n\u001b[0;32m      2\u001b[0m \u001b[0mregr\u001b[0m \u001b[1;33m=\u001b[0m \u001b[0mMLPRegressor\u001b[0m\u001b[1;33m(\u001b[0m\u001b[0mrandom_state\u001b[0m\u001b[1;33m=\u001b[0m\u001b[1;36m42\u001b[0m\u001b[1;33m,\u001b[0m \u001b[0mmax_iter\u001b[0m\u001b[1;33m=\u001b[0m\u001b[1;36m1500\u001b[0m\u001b[1;33m)\u001b[0m\u001b[1;33m.\u001b[0m\u001b[0mfit\u001b[0m\u001b[1;33m(\u001b[0m\u001b[0mX_train\u001b[0m\u001b[1;33m,\u001b[0m \u001b[0my_train\u001b[0m\u001b[1;33m)\u001b[0m\u001b[1;33m\u001b[0m\u001b[1;33m\u001b[0m\u001b[0m\n\u001b[1;32m----> 3\u001b[1;33m \u001b[0mpreds\u001b[0m \u001b[1;33m=\u001b[0m \u001b[0mregr\u001b[0m\u001b[1;33m.\u001b[0m\u001b[0mpredict\u001b[0m\u001b[1;33m(\u001b[0m\u001b[0mX_cv\u001b[0m\u001b[1;33m)\u001b[0m\u001b[1;33m\u001b[0m\u001b[1;33m\u001b[0m\u001b[0m\n\u001b[0m",
      "\u001b[1;31mNameError\u001b[0m: name 'X_cv' is not defined"
     ]
    }
   ],
   "source": [
    "from sklearn.neural_network import MLPRegressor\n",
    "regr = MLPRegressor(random_state=42, max_iter=1500).fit(X_train, y_train)\n",
    "preds = regr.predict(X_cv)\n"
   ]
  },
  {
   "cell_type": "code",
   "execution_count": null,
   "id": "417894f1",
   "metadata": {},
   "outputs": [],
   "source": [
    "import sklearn\n",
    "from numpy import sqrt\n",
    "print(\"Cross Validation error: \", sqrt(sklearn.metrics.mean_squared_error(y_cv, preds)))"
   ]
  },
  {
   "cell_type": "code",
   "execution_count": null,
   "id": "f07bb61a",
   "metadata": {},
   "outputs": [],
   "source": [
    "preds = regr.predict(X_train)\n",
    "print(\"Training error: \", sqrt(sklearn.metrics.mean_squared_error(y_train, preds)))"
   ]
  },
  {
   "cell_type": "code",
   "execution_count": null,
   "id": "58bab9d8",
   "metadata": {},
   "outputs": [],
   "source": [
    "preds = regr.predict(X_tes)\n",
    "print(\"Test error: \", sqrt(sklearn.metrics.mean_squared_error(y_tes, preds)))"
   ]
  },
  {
   "cell_type": "code",
   "execution_count": null,
   "id": "eadf604f",
   "metadata": {},
   "outputs": [],
   "source": [
    "X_test.shape"
   ]
  },
  {
   "cell_type": "code",
   "execution_count": null,
   "id": "979c1a5f",
   "metadata": {},
   "outputs": [],
   "source": [
    "predsf=regr.predict(X_test)\n",
    "\n",
    "data = np.array([id_test, predsf]).T\n",
    "\n",
    "pd.DataFrame(data=data, columns = ['id','price1']).to_csv('submissionoutput1807_5.csv')"
   ]
  },
  {
   "cell_type": "code",
   "execution_count": null,
   "id": "42d0304f",
   "metadata": {},
   "outputs": [],
   "source": [
    "predsf.shape"
   ]
  },
  {
   "cell_type": "code",
   "execution_count": null,
   "id": "d86e01ad",
   "metadata": {},
   "outputs": [],
   "source": [
    "import xgboost as xg\n",
    "from sklearn.metrics import mean_squared_error as MSE\n",
    "xgbr = xg.XGBRegressor(objective ='reg:linear',n_estimators = 250, seed = 123).fit(X_train,y_train)\n",
    "preds=xgbr.predict(X_cv)\n",
    "print(\"RSME for CV: \",np.sqrt(MSE(y_cv, preds)))\n",
    "preds2=xgbr.predict(X_tes)\n",
    "print(\"RSME for Test: \",np.sqrt(MSE(y_tes, preds2)))\n",
    "#print(\"Cross Validation error: \", sqrt(sklearn.metrics.mean_squared_error(y_cv, preds)))\n",
    "preds=xgbr.predict(X_train)\n",
    "print(\"RSME for Training: \",np.sqrt(MSE(y_train, preds)))"
   ]
  },
  {
   "cell_type": "code",
   "execution_count": null,
   "id": "4d909e3b",
   "metadata": {},
   "outputs": [],
   "source": [
    "predsf=(preds1[:,0]+preds2)/2\n",
    "print(\"RSME for Test: \",np.sqrt(MSE(y_tes, predsf)))\n",
    "print(predsf.shape)\n",
    "print(y_tes.shape)"
   ]
  },
  {
   "cell_type": "code",
   "execution_count": null,
   "id": "fd66ba0b",
   "metadata": {},
   "outputs": [],
   "source": [
    "predsf=xgbr.predict(X_test)\n",
    "\n",
    "data = np.array([id_test, predsf]).T\n",
    "\n",
    "pd.DataFrame(data=data, columns = ['id','price1']).to_csv('submissionoutput1507_5.csv')"
   ]
  },
  {
   "cell_type": "code",
   "execution_count": null,
   "id": "76f9baf5",
   "metadata": {},
   "outputs": [],
   "source": [
    "data"
   ]
  },
  {
   "cell_type": "code",
   "execution_count": null,
   "id": "c31bcd2a",
   "metadata": {},
   "outputs": [],
   "source": [
    "preds1"
   ]
  },
  {
   "cell_type": "code",
   "execution_count": null,
   "id": "d7e5aa97",
   "metadata": {},
   "outputs": [],
   "source": [
    "preds = model.predict(X_test)\n",
    "id_test.to_numpy()\n",
    "data = np.array([id_test, preds[:,0]]).T\n",
    "pd.DataFrame(data=data, columns = ['id','price1']).to_csv('submissionoutput1507_3.csv')"
   ]
  },
  {
   "cell_type": "code",
   "execution_count": 132,
   "id": "bde9776c",
   "metadata": {},
   "outputs": [
    {
     "data": {
      "text/plain": [
       "RandomForestRegressor(max_depth=18, n_estimators=4, random_state=0)"
      ]
     },
     "execution_count": 132,
     "metadata": {},
     "output_type": "execute_result"
    }
   ],
   "source": [
    "from sklearn.ensemble import RandomForestRegressor\n",
    "rfr = RandomForestRegressor(max_depth=18, n_estimators=4, random_state=0)\n",
    "rfr.fit(X_train, y_train)\n",
    "#predsrfr = rfr.predict(X_tes)**2\n",
    "#print(\"RMSE for test dataset: \", np.sqrt(sklearn.metrics.mean_squared_error(y_tes**2, predsrfr)))"
   ]
  },
  {
   "cell_type": "code",
   "execution_count": 133,
   "id": "6532d01c",
   "metadata": {},
   "outputs": [
    {
     "data": {
      "text/plain": [
       "array([[ 2242.        ,   389.50296368],\n",
       "       [20532.        ,   320.44156182],\n",
       "       [10648.        ,   446.61073232],\n",
       "       ...,\n",
       "       [18733.        ,   420.70264293],\n",
       "       [ 6162.        ,   182.40377773],\n",
       "       [13574.        ,   692.26722819]])"
      ]
     },
     "execution_count": 133,
     "metadata": {},
     "output_type": "execute_result"
    }
   ],
   "source": [
    "predsrfr_test = rfr.predict(X_test)**2\n",
    "id_test.to_numpy()\n",
    "data = np.array([id_test, predsrfr_test]).T\n",
    "data"
   ]
  },
  {
   "cell_type": "code",
   "execution_count": 134,
   "id": "0cb7a174",
   "metadata": {},
   "outputs": [],
   "source": [
    "pd.DataFrame(data=data, columns = ['id','price1']).to_csv('20072022_1.csv')"
   ]
  }
 ],
 "metadata": {
  "kernelspec": {
   "display_name": "Python 3 (ipykernel)",
   "language": "python",
   "name": "python3"
  },
  "language_info": {
   "codemirror_mode": {
    "name": "ipython",
    "version": 3
   },
   "file_extension": ".py",
   "mimetype": "text/x-python",
   "name": "python",
   "nbconvert_exporter": "python",
   "pygments_lexer": "ipython3",
   "version": "3.9.7"
  }
 },
 "nbformat": 4,
 "nbformat_minor": 5
}
